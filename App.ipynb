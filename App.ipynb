{
 "cells": [
  {
   "cell_type": "code",
   "execution_count": null,
   "id": "07664bd5-95eb-407a-bb1d-f635c3ae3c98",
   "metadata": {},
   "outputs": [],
   "source": [
    "%%writefile app.py\n",
    "import streamlit as st\n",
    "import pickle\n",
    "import pandas as pd\n",
    "\n",
    "def main():\n",
    "    st.set_page_config(\n",
    "        page_title = 'Breast Cancer predictor',\n",
    "        page_icon = 'Female-doctor:',\n",
    "        layout = \"wide\",\n",
    "        side = 'expanded,\n",
    "        initial_sidebar_state='expanded')\n",
    "    with st.container ():\n",
    "        st.title('Breast cancer predictor')\n",
    "        st.write('Please connect this app to your cytology lab to help diagnose breast cancer from your tissue sample')\n",
    "            \n",
    "if __name__ == '__main__':\n",
    "    main()"
   ]
  },
  {
   "cell_type": "code",
   "execution_count": null,
   "id": "06642519-2ad7-4952-866f-9388da5a5545",
   "metadata": {},
   "outputs": [],
   "source": [
    "!streamlit run app.py"
   ]
  }
 ],
 "metadata": {
  "kernelspec": {
   "display_name": "Python 3 (ipykernel)",
   "language": "python",
   "name": "python3"
  },
  "language_info": {
   "codemirror_mode": {
    "name": "ipython",
    "version": 3
   },
   "file_extension": ".py",
   "mimetype": "text/x-python",
   "name": "python",
   "nbconvert_exporter": "python",
   "pygments_lexer": "ipython3",
   "version": "3.12.4"
  }
 },
 "nbformat": 4,
 "nbformat_minor": 5
}
